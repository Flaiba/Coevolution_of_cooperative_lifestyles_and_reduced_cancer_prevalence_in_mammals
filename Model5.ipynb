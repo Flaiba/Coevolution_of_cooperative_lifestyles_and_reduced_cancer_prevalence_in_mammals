{
  "nbformat": 4,
  "nbformat_minor": 0,
  "metadata": {
    "colab": {
      "provenance": [],
      "toc_visible": true,
      "authorship_tag": "ABX9TyODx2Kcxz8egTaCOsLDGgYd",
      "include_colab_link": true
    },
    "kernelspec": {
      "name": "python3",
      "display_name": "Python 3"
    },
    "language_info": {
      "name": "python"
    }
  },
  "cells": [
    {
      "cell_type": "markdown",
      "metadata": {
        "id": "view-in-github",
        "colab_type": "text"
      },
      "source": [
        "<a href=\"https://colab.research.google.com/github/Flaiba/Coevolution_of_cooperative_lifestyles_and_reduced_cancer_prevalence_in_mammals/blob/main/Model5.ipynb\" target=\"_parent\"><img src=\"https://colab.research.google.com/assets/colab-badge.svg\" alt=\"Open In Colab\"/></a>"
      ]
    },
    {
      "cell_type": "markdown",
      "source": [
        "# Python code for simulating Population Dynamics"
      ],
      "metadata": {
        "id": "zzUT_HXqXHQB"
      }
    },
    {
      "cell_type": "markdown",
      "source": [
        "This is the code for simulations and plotting of the Mathematical modeling presented in the paper \"Coevolution of cooperative lifestyles and low cancer incidence in mammals\" authored by Catalina Sierra, Julian Maxwell, Nicolás Flaibani, Constanza Sánchez de la Vega, Alejandra C. Ventura, Nicolás José Lavagnino and Matías Blaustein."
      ],
      "metadata": {
        "id": "c_5nYdNtWS3o"
      }
    },
    {
      "cell_type": "markdown",
      "source": [
        "# Define functions for modeling populations, simulating models and plotting results"
      ],
      "metadata": {
        "id": "n1Twj0ZbXO9r"
      }
    },
    {
      "cell_type": "code",
      "execution_count": null,
      "metadata": {
        "id": "vr0-n12VWNPp"
      },
      "outputs": [],
      "source": [
        "import numpy as np\n",
        "import pandas as pd\n",
        "import scipy\n",
        "from scipy.integrate import odeint, ode\n",
        "import matplotlib.pyplot as plt\n",
        "from matplotlib.ticker import AutoMinorLocator, MultipleLocator"
      ]
    },
    {
      "cell_type": "markdown",
      "source": [
        "## Functions"
      ],
      "metadata": {
        "id": "nEaXhmLOOa-f"
      }
    },
    {
      "cell_type": "code",
      "source": [
        "def frame(param_tuple):\n",
        "  \"\"\"\n",
        "Creates a parameters DataFrame from a tuple.\n",
        "Must respect given order (see code).\n",
        "  \"\"\"\n",
        "  param_keys = ('$π$', '$ρ$',\n",
        "               '$κ_{JA1}$', '$κ_{JS1}$', '$κ_{A1}$', '$κ_{S1}$',\n",
        "               '$α_1$', '$ω_1$', '$β_{A1}$', '$β_{S1}$', '$γ_{A1}$', '$γ_{S1}$', '$σ_1$',\n",
        "               '$μ_{JA1}$', '$μ_{JS1}$', '$μ_{A1}$', '$μ_{S1}$',\n",
        "               '$κ_{JA2}$', '$κ_{JS2}$', '$κ_{A2}$', '$κ_{S2}$',\n",
        "               '$α_2$', '$ω_2$', '$β_{A2}$', '$β_{S2}$', '$γ_{A2}$', '$γ_{S2}$', '$σ_2$',\n",
        "               '$μ_{JA2}$', '$μ_{JS2}$', '$μ_{A2}$', '$μ_{S2}$')\n",
        "  dict_param = dict(map(lambda i,j : (i,j) , param_keys, param_tuple))\n",
        "  param_df = pd.Series(dict_param, dict_param.keys())\n",
        "\n",
        "  return param_df\n"
      ],
      "metadata": {
        "id": "Msn_SMPKHN2u"
      },
      "execution_count": null,
      "outputs": []
    },
    {
      "cell_type": "code",
      "execution_count": null,
      "metadata": {
        "id": "8QR6oAWQDj0X"
      },
      "outputs": [],
      "source": [
        "def sol_odeint_df(system, init_cond: list, parameters: tuple, t_fin: float, dt:float, t_ini: float = 0) -> pd.DataFrame:\n",
        "  \"\"\"\n",
        "  Returns 3 DataFrames:\n",
        "  Simulated Dynamics from time integration by scipy's odeint\n",
        "  Input parameters\n",
        "  Input initial values\n",
        "  \"\"\"\n",
        "  t=np.arange(t_ini, t_fin, dt)\n",
        "  sol = odeint(system, init_cond, t, args = (parameters))\n",
        "\n",
        "\n",
        "# creates a DataFrame for time course data\n",
        "  labels = ['R(t)', 'J_A1(t)', 'J_S1(t)', 'A1(t)', 'S1(t)', 'J_A2(t)', 'J_S2(t)', 'A2(t)', 'S2(t)']\n",
        "  sol_df = pd.DataFrame(data=sol, index=t, columns = labels)\n",
        "\n",
        "#creates a DataFrame for input parameter values used for simulation\n",
        "  param_df = frame(parameters)\n",
        "\n",
        "#creates a DataFrame for input Initial Conditions\n",
        "  InCond_df = sol_df.iloc[0, :]\n",
        "\n",
        "  return sol_df, param_df, InCond_df"
      ]
    },
    {
      "cell_type": "code",
      "source": [
        "def expand_df(sol01: pd.DataFrame, full=False):\n",
        "  \"\"\"\n",
        "  Adds further columns to input DataFrame.\n",
        "  \"\"\"\n",
        "  # size of subpopulation 1\n",
        "  sol01['N1(t)'] = sol01.iloc[:,[1,2,3,4]].sum(1)\n",
        "  # size of subpopulation 2\n",
        "  sol01['N2(t)'] = sol01.iloc[:,[5,6,7,8]].sum(1)\n",
        "  # total consumer population size\n",
        "  sol01['N(t)'] = sol01.iloc[:,[9,10]].sum(1)\n",
        "  #fraction of each subpopulation over total consumer population\n",
        "  sol01[['n1(t)', 'n2(t)']] = sol01[['N1(t)','N2(t)']].div(sol01['N(t)'], axis=0)\n",
        "\n",
        "  if full == True:\n",
        "\n",
        "    #sum of adult-born juveniles from both subpopulations\n",
        "    sol01['J_A(t)']= sol01[['J_A1(t)', 'J_A2(t)']].sum(1)\n",
        "    #sum of senior-born juveniles from both subpopulations\n",
        "    sol01['J_S(t)']= sol01[['J_S1(t)', 'J_S2(t)']].sum(1)\n",
        "    #sum of kinds of juveniles from the same subpopulation (1)\n",
        "    sol01['J1(t)'] = sol01.iloc[:,[1,2]].sum(1)\n",
        "    #sum of kinds of juveniles from the same subpopulation (2)\n",
        "    sol01['J2(t)'] = sol01.iloc[:,[5,6]].sum(1)\n",
        "    #all juveniles (regardless of origin) summed\n",
        "    sol01['J(t)']  = sol01[['J_A(t)', 'J_S(t)']].sum(1)\n",
        "    # sum of all adults in metapopulation\n",
        "    sol01['A(t)']  = sol01[['A1(t)', 'A2(t)']].sum(1)\n",
        "    # sum of all seniors in metapopulation\n",
        "    sol01['S(t)']  = sol01[['S1(t)', 'S2(t)']].sum(1)\n",
        "\n",
        "    #fraction of adults to total size in a single subpopulation (1)\n",
        "    sol01['a1(t)'] = sol01['A1(t)'].div(sol01['N1(t)'], axis=0)\n",
        "    #fraction of adults to total size in a single subpopulation (2)\n",
        "    sol01['a2(t)'] = sol01['A2(t)'].div(sol01['N2(t)'], axis=0)\n",
        "    #fraction of all adults in total metapopulation\n",
        "    sol01['a(t)']  = sol01['A(t)'].div(sol01['N(t)'], axis=0)\n",
        "\n",
        "\n",
        "  return sol01"
      ],
      "metadata": {
        "id": "cxgM6tMh-2qJ"
      },
      "execution_count": null,
      "outputs": []
    },
    {
      "cell_type": "code",
      "source": [
        "def mean_df(sol01: pd.DataFrame):\n",
        "  \"\"\"\n",
        "  Calculates the mean value for last fifth of simulated time.\n",
        "  Useful to compare to the last value of simulation.\n",
        "  \"\"\"\n",
        "  df1 = pd.DataFrame(sol01.iloc[-len(sol01)//5:,:].mean(0)).T\n",
        "  df1.index=['mean']\n",
        "\n",
        "  return df1"
      ],
      "metadata": {
        "id": "5sYERJcWyYLR"
      },
      "execution_count": null,
      "outputs": []
    },
    {
      "cell_type": "code",
      "source": [
        "def function(system, start, end, step, param = tuple([0]*29), init_cond = [0]*9,\n",
        "             t_fin = 0, dt = 0, control1='$μ_{S1}$', control2='$μ_{S1}$', full = True):\n",
        "  \"\"\"\n",
        "  This function returns 2 lists (one of floats, another one of dictionaries)\n",
        "  from the following input parameters\n",
        "\n",
        "  System: must be a defined model (MetaPopX)\n",
        "\n",
        "  (np.arange parameters)\n",
        "  start: Lower bound for control parameter range\n",
        "  end: Upper bound for control parameter range (not included)\n",
        "  step: step of the control parameter range\n",
        "\n",
        "  param: of paramater set values for system\n",
        "  init_cond: list of initial values for system state variables\n",
        "\n",
        "  t_fin: end time of simulation (total time)\n",
        "  dt: time step for time course returned\n",
        "\n",
        "  control1: keyword for selected control parameter\n",
        "  control2: keyword for additonal control parameter\n",
        "\n",
        "  full: False to get less information\n",
        "\n",
        "  Floats in fifrst list are the control variables values\n",
        "  in the order used for simulations.\n",
        "  Dictonaries in second list provide all the information\n",
        "  from the multiple simulations ran by this function.\n",
        "  \"\"\"\n",
        "  mu_s_array=[]\n",
        "  dict_sol_array = []\n",
        "\n",
        "  for i in np.arange(start, end, step):\n",
        "  # for i in np.linspace(start, end, step): #alternative\n",
        "    i = round(i, 2)\n",
        "    param[control1]=i\n",
        "    param[control2]=i\n",
        "    #uses sol_odeint_df to create 3 dataframes:\n",
        "    #time course, input parameters and input initial values\n",
        "    sol, param, Init_Cond = sol_odeint_df(system, list(init_cond[0:9]),\n",
        "                                          tuple(param), t_fin=t_fin, dt=dt)\n",
        "    expand_df(sol, full) #expands the dataframe for additional information\n",
        "    #adds to the ouput list all data of current simulation in dictioanary form\n",
        "    dict_sol_array.append({'control_name1': control1, 'control_name2': control2,\n",
        "                           'parameter_value1': i, 'parameter_value2': i,\n",
        "                           'last_value': sol.iloc[-1, :], 'mean_value': mean_df(sol),\n",
        "                           'dynamics': sol, 'params': param, 'Init_Cond': Init_Cond})\n",
        "    mu_s_array.append(i)\n",
        "\n",
        "    # i+=step\n",
        "\n",
        "  return mu_s_array, dict_sol_array\n"
      ],
      "metadata": {
        "id": "4LOLiQcQDTMO"
      },
      "execution_count": null,
      "outputs": []
    },
    {
      "cell_type": "markdown",
      "source": [
        "## Systems of Equations"
      ],
      "metadata": {
        "id": "oiCarti2NzbW"
      }
    },
    {
      "cell_type": "markdown",
      "source": [
        "The following systems of ODE are 4 versions of the same model. Variation can be found in the location of the cooperative/competitive term, herein refered to as the $ h $ function.\n",
        "\n",
        "$$\n",
        "h = \\frac{(1 + \\alpha_1 S_1 + \\alpha_2 S_2)(1 + \\rho R^2)}{{1 + (\\omega_1 S_1 + \\omega_2 S_2)}}\n",
        "$$\n",
        "\n",
        "These models are used for simulating populations in *Modeling cancer and population size* subsection of the paper's Results section and also in the *Extended Data Figures* of the Supplementary Information.\n",
        "\n",
        "All systems of equations have an unstructered *Resource* dynamics equation and 2 \"copies\" of the structured *Consumer* population dynamics. This allows us to show the time evolution of a meta-population composed of two subpopulations (with two different sets of life history parameter values) competing for a common pool of resources (*Resource* population). When considering a single population, same initial conditions and parameter values are selected for both \"subpopulations\".\n",
        "\n",
        "Additionally, in these models there 2 kinds of Juveniles in each *Consumer* population, those that are born from *Adults* (`J_A1` and `J_A2`), and those that are born from *Senior* adults (`J_S1` and `J_S2`).\n",
        "\n"
      ],
      "metadata": {
        "id": "cgaqU4ecbJxX"
      }
    },
    {
      "cell_type": "code",
      "source": [
        "def MetaPopA(V: list,\n",
        "             t,\n",
        "             p, r,\n",
        "             kja1, kjs1, ka1, ks1, a1, w1, ba1, bs1, ga1, gs1, s1, mja1, mjs1, ma1, ms1,\n",
        "             kja2, kjs2, ka2, ks2, a2, w2, ba2, bs2, ga2, gs2, s2, mja2, mjs2, ma2, ms2) -> list:\n",
        "    \"\"\"\n",
        "Model based on Extended Data Eqs. 4a-d. Here cooperativity/competition function is affecting Juvenile mortality.\n",
        "This funtion should use the same set of parameters for both subpopulations (1 and 2) if it is simulating a single population.\n",
        "This function receives an initial state for the system variables V in list form.\n",
        "It returns the rate of change of the system variables in list form.\n",
        "\n",
        "Except for V = [Ri, J_A1i, ..., S2i], every other input should be of type float.\n",
        "    \"\"\"\n",
        "    R = V[0]\n",
        "    J_A1 = V[1]\n",
        "    J_S1 = V[2]\n",
        "    A1 = V[3]\n",
        "    S1 = V[4]\n",
        "    J_A2 = V[5]\n",
        "    J_S2 = V[6]\n",
        "    A2 = V[7]\n",
        "    S2 = V[8]\n",
        "\n",
        "    h = (1 + a1*S1 + a2*S2)/(1 + (w1*S1 + w2*S2)/(1 + r*(R**2)))\n",
        "\n",
        "    dRdt = p - kja1*R*J_A1 + kjs1*R*J_S1 - ka1*R*A1 - ks1*R*S1 - kja2*R*J_A2 + kjs2*R*J_S2 - ka2*R*A2 - ks2*R*S2\n",
        "\n",
        "    dJ_A1dt = (ba1*(ka1*R))*A1 - (ga1*(kja1*R))*J_A1 - (mja1)*J_A1/h\n",
        "    dJ_S1dt = (bs1*(ks1*R))*S1 - (gs1*(kjs1*R))*J_S1 - (mjs1)*J_S1/h\n",
        "    dA1dt = (ga1*(kja1*R))*J_A1 + (gs1*(kjs1*R))*J_S1 - s1*A1 - ma1*A1\n",
        "    dS1dt = s1*A1 - ms1*S1\n",
        "\n",
        "    dJ_A2dt = (ba2*(ka2*R))*A2 - (ga2*(kja2*R))*J_A2 - (mja2)*J_A2/h\n",
        "    dJ_S2dt = (bs2*(ks2*R))*S2 - (gs2*(kjs2*R))*J_S2 - (mjs2)*J_S2/h\n",
        "    dA2dt = (ga2*(kja2*R))*J_A2 + (gs2*(kjs2*R))*J_S2 - s2*A2 - ma2*A2\n",
        "    dS2dt = s2*A2 - ms2*S2\n",
        "\n",
        "    return [dRdt, dJ_A1dt, dJ_S1dt, dA1dt, dS1dt, dJ_A2dt, dJ_S2dt, dA2dt, dS2dt]\n"
      ],
      "metadata": {
        "id": "bV5rMmwn9fYl"
      },
      "execution_count": null,
      "outputs": []
    },
    {
      "cell_type": "code",
      "source": [
        "def MetaPopB(V: list,\n",
        "             t,\n",
        "             p, r,\n",
        "             kja1, kjs1, ka1, ks1, a1, w1, ba1, bs1, ga1, gs1, s1, mja1, mjs1, ma1, ms1,\n",
        "             kja2, kjs2, ka2, ks2, a2, w2, ba2, bs2, ga2, gs2, s2, mja2, mjs2, ma2, ms2):\n",
        "    \"\"\"\n",
        "Model based on Extended Data Eqs. E1a-d. Here cooperativity/competition function is affecting Juvenile foraging.\n",
        "This funtion should use the same set of parameters for both subpopulations (1 and 2) if it is simulating a single population.\n",
        "This function receives an initial state for the system variables V in list form.\n",
        "It returns the rate of change of the system variables in list form.\n",
        "\n",
        "Except for V = [Ri, J_A1i, ..., S2i], every other input should be of type float.\n",
        "    \"\"\"\n",
        "    R = V[0]\n",
        "    J_A1 = V[1]\n",
        "    J_S1 = V[2]\n",
        "    A1 = V[3]\n",
        "    S1 = V[4]\n",
        "    J_A2 = V[5]\n",
        "    J_S2 = V[6]\n",
        "    A2 = V[7]\n",
        "    S2 = V[8]\n",
        "\n",
        "    h = (1 + a1*S1 + a2*S2)/(1 + (w1*S1 + w2*S2)/(1 + r*(R**2)))\n",
        "\n",
        "    dRdt = p - ((kja1*h)*R*J_A1)+ ((kjs1*h)*R*J_S1) - ka1*R*A1 - ks1*R*S1 - ((kja2*h)*R*J_A2) + ((kjs2*h)*R*J_S2) - ka2*R*A2 - ks2*R*S2\n",
        "\n",
        "    dJ_A1dt = (ba1*(ka1*R))*A1 - (ga1*((kja1*h)*R))*J_A1 - (mja1)*J_A1\n",
        "    dJ_S1dt = (bs1*(ks1*R))*S1 - (gs1*((kjs1*h)*R))*J_S1 - (mjs1)*J_S1\n",
        "    dA1dt = (ga1*((kja1*h)*R))*J_A1 + (gs1*((kjs1*h)*R))*J_S1 - s1*A1 - ma1*A1\n",
        "    dS1dt = s1*A1 - ms1*S1\n",
        "\n",
        "    dJ_A2dt = (ba2*(ka2*R))*A2 - (ga2*((kja2*h)*R))*J_A2 - (mja2)*J_A2\n",
        "    dJ_S2dt = (bs2*(ks2*R))*S2 - (gs2*((kjs2*h)*R))*J_S2 - (mjs2)*J_S2\n",
        "    dA2dt = (ga2*((kja2*h)*R))*J_A2 + (gs2*((kjs2*h)*R))*J_S2 - s2*A2 - ma2*A2\n",
        "    dS2dt = s2*A2 - ms2*S2\n",
        "\n",
        "    return [dRdt, dJ_A1dt, dJ_S1dt, dA1dt, dS1dt, dJ_A2dt, dJ_S2dt, dA2dt, dS2dt]\n"
      ],
      "metadata": {
        "id": "OZriROde_6Nv"
      },
      "execution_count": null,
      "outputs": []
    },
    {
      "cell_type": "code",
      "source": [
        "def MetaPopC(V: list,\n",
        "             t,\n",
        "             p, r,\n",
        "             kja1, kjs1, ka1, ks1, a1, w1, ba1, bs1, ga1, gs1, s1, mja1, mjs1, ma1, ms1,\n",
        "             kja2, kjs2, ka2, ks2, a2, w2, ba2, bs2, ga2, gs2, s2, mja2, mjs2, ma2, ms2):\n",
        "    \"\"\"\n",
        "Model based on Extended Data Eqs. E2a-d. Here cooperativity/competition function is affecting Juvenile to Adult maturation.\n",
        "This funtion should use the same set of parameters for both subpopulations (1 and 2) if it is simulating a single population.\n",
        "This function receives an initial state for the system variables V in list form.\n",
        "It returns the rate of change of the system variables in list form.\n",
        "\n",
        "Except for V = [Ri, J_A1i, ..., S2i], every other input should be of type float.\n",
        "    \"\"\"\n",
        "    R = V[0]\n",
        "    J_A1 = V[1]\n",
        "    J_S1 = V[2]\n",
        "    A1 = V[3]\n",
        "    S1 = V[4]\n",
        "    J_A2 = V[5]\n",
        "    J_S2 = V[6]\n",
        "    A2 = V[7]\n",
        "    S2 = V[8]\n",
        "\n",
        "    h = (1 + a1*S1 + a2*S2)/(1 + (w1*S1 + w2*S2)/(1 + r*(R**2)))\n",
        "\n",
        "    dRdt = p - kja1*R*J_A1 + kjs1*R*J_S1 - ka1*R*A1 - ks1*R*S1 - kja2*R*J_A2 + kjs2*R*J_S2 - ka2*R*A2 - ks2*R*S2\n",
        "\n",
        "    dJ_A1dt = (ba1*(ka1*R))*A1 - ((ga1*h)*(kja1*R))*J_A1 - (mja1)*J_A1\n",
        "    dJ_S1dt = (bs1*(ks1*R))*S1 - ((gs1*h)*(kjs1*R))*J_S1 - (mjs1)*J_S1\n",
        "    dA1dt = ((ga1*h)*(kja1*R))*J_A1 + ((gs1*h)*(kjs1*R))*J_S1 - s1*A1 - ma1*A1\n",
        "    dS1dt = s1*A1 - ms1*S1\n",
        "\n",
        "    dJ_A2dt = (ba2*(ka2*R))*A2 - ((ga2*h)*(kja2*R))*J_A2 - (mja2)*J_A2\n",
        "    dJ_S2dt = (bs2*(ks2*R))*S2 - ((gs2*h)*(kjs2*R))*J_S2 - (mjs2)*J_S2\n",
        "    dA2dt = ((ga2*h)*(kja2*R))*J_A2 + ((gs2*h)*(kjs2*R))*J_S2 - s2*A2 - ma2*A2\n",
        "    dS2dt = s2*A2 - ms2*S2\n",
        "\n",
        "    return [dRdt, dJ_A1dt, dJ_S1dt, dA1dt, dS1dt, dJ_A2dt, dJ_S2dt, dA2dt, dS2dt]\n"
      ],
      "metadata": {
        "id": "qGpziL02_-Hv"
      },
      "execution_count": null,
      "outputs": []
    },
    {
      "cell_type": "code",
      "source": [
        "def MetaPopD(V: list,\n",
        "             t,\n",
        "             p, r,\n",
        "             kja1, kjs1, ka1, ks1, a1, w1, ba1, bs1, ga1, gs1, s1, mja1, mjs1, ma1, ms1,\n",
        "             kja2, kjs2, ka2, ks2, a2, w2, ba2, bs2, ga2, gs2, s2, mja2, mjs2, ma2, ms2):\n",
        "    \"\"\"\n",
        "Model based on Extended Data Eqs. E3a-d. Here cooperativity/competition function is affecting Adult and Senior fertility.\n",
        "This funtion should use the same set of parameters for both subpopulations (1 and 2) if it is simulating a single population.\n",
        "This function receives an initial state for the system variables V in list form.\n",
        "It returns the rate of change of the system variables in list form.\n",
        "\n",
        "Except for V = [Ri, J_A1i, ..., S2i], every other input should be of type float.\n",
        "    \"\"\"\n",
        "    R = V[0]\n",
        "    J_A1 = V[1]\n",
        "    J_S1 = V[2]\n",
        "    A1 = V[3]\n",
        "    S1 = V[4]\n",
        "    J_A2 = V[5]\n",
        "    J_S2 = V[6]\n",
        "    A2 = V[7]\n",
        "    S2 = V[8]\n",
        "\n",
        "    h = (1 + a1*S1 + a2*S2)/(1 + (w1*S1 + w2*S2)/(1 + r*(R**2)))\n",
        "\n",
        "    dRdt = p - kja1*R*J_A1 + kjs1*R*J_S1 - ka1*R*A1 - ks1*R*S1 - kja2*R*J_A2 + kjs2*R*J_S2 - ka2*R*A2 - ks2*R*S2\n",
        "\n",
        "    dJ_A1dt = ((ba1*h)*(ka1*R))*A1 - (ga1*(kja1*R))*J_A1 - (mja1)*J_A1\n",
        "    dJ_S1dt = ((bs1*h)*(ks1*R))*S1 - (gs1*(kjs1*R))*J_S1 - (mjs1)*J_S1\n",
        "    dA1dt = (ga1*(kja1*R))*J_A1 + (gs1*(kjs1*R))*J_S1 - s1*A1 - ma1*A1\n",
        "    dS1dt = s1*A1 - ms1*S1\n",
        "\n",
        "    dJ_A2dt = ((ba2*h)*(ka2*R))*A2 - (ga2*(kja2*R))*J_A2 - (mja2)*J_A2\n",
        "    dJ_S2dt = ((bs2*h)*(ks2*R))*S2 - (gs2*(kjs2*R))*J_S2 - (mjs2)*J_S2\n",
        "    dA2dt = (ga2*(kja2*R))*J_A2 + (gs2*(kjs2*R))*J_S2 - s2*A2 - ma2*A2\n",
        "    dS2dt = s2*A2 - ms2*S2\n",
        "\n",
        "    return [dRdt, dJ_A1dt, dJ_S1dt, dA1dt, dS1dt, dJ_A2dt, dJ_S2dt, dA2dt, dS2dt]\n"
      ],
      "metadata": {
        "id": "djCqFEUF_9tH"
      },
      "execution_count": null,
      "outputs": []
    }
  ]
}